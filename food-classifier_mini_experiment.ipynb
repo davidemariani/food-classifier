{
 "cells": [
  {
   "cell_type": "markdown",
   "metadata": {},
   "source": [
    "# Experiment on a reduced version of the Food-101 dataset"
   ]
  },
  {
   "cell_type": "markdown",
   "metadata": {},
   "source": [
    "Due to the large size of the dataset, some experiment has been done reducing the number of classes to 3 speeding up training."
   ]
  },
  {
   "cell_type": "markdown",
   "metadata": {},
   "source": [
    "## Downloading the data\n",
    "\n",
    "The dataset is retrieved from the website http://data.vision.ee.ethz.ch/cvl/food-101.tar.gz using as a reference the following research paper\n",
    "\n",
    "\n",
    "> Lukas Bossard, Matthieu Guillaumin, Luc Van Gool - Food-101 – Mining Discriminative Components with Random Forests\n",
    "\n",
    "The Food-101 data set consists of images from Foodspotting [1]. Any use beyond\n",
    "   scientific fair use must be negociated with the respective picture owners\n",
    "   according to the Foodspotting terms of use [2].\n",
    "\n",
    "[1] http://www.foodspotting.com/\n",
    "[2] http://www.foodspotting.com/terms/"
   ]
  },
  {
   "cell_type": "code",
   "execution_count": 1,
   "metadata": {},
   "outputs": [],
   "source": [
    "#importing essential modules\n",
    "import pandas as pd\n",
    "import numpy as np\n",
    "import shutil\n",
    "import os\n",
    "import matplotlib.pyplot as plt\n",
    "from os import path\n",
    "import time"
   ]
  },
  {
   "cell_type": "code",
   "execution_count": null,
   "metadata": {},
   "outputs": [],
   "source": [
    "#the data will be downloaded and automatically extracted to the data folder ../data/food-101/images\n",
    "%mkdir data\n",
    "!wget -O ../data/food-101.tar.gz http://data.vision.ee.ethz.ch/cvl/food-101.tar.gz\n",
    "!tar -zxf ../data/food-101.tar.gz -C data"
   ]
  },
  {
   "cell_type": "code",
   "execution_count": 2,
   "metadata": {},
   "outputs": [],
   "source": [
    "#loading metadata\n",
    "metafolder = \"../data/food-101/meta/\"\n",
    "train_meta = pd.read_json(path_or_buf = metafolder + \"train.json\")\n",
    "test_meta = pd.read_json(path_or_buf = metafolder + \"test.json\")"
   ]
  },
  {
   "cell_type": "markdown",
   "metadata": {},
   "source": [
    "> ### Organising metdatada for training, testing and validation"
   ]
  },
  {
   "cell_type": "code",
   "execution_count": 3,
   "metadata": {},
   "outputs": [
    {
     "name": "stdout",
     "output_type": "stream",
     "text": [
      "6000 images used for training\n",
      "1500 images used for validation\n",
      "2500 images used for testing\n"
     ]
    }
   ],
   "source": [
    "#organising metadata for training, testing and validation\n",
    "validation_split = 0.2\n",
    "val_split_idx = int(np.floor(train_meta.shape[0]*validation_split))\n",
    "\n",
    "#selecting a subset of categories\n",
    "selection = ['apple_pie', 'pizza', 'omelette', 'churros', 'lobster_roll_sandwich', 'grilled_cheese_sandwich', 'pork_chop', 'panna_cotta', 'nachos', 'oysters']\n",
    "train_meta = train_meta[selection].iloc[:train_meta.shape[0] - val_split_idx]\n",
    "\n",
    "valid_meta = train_meta[selection].iloc[train_meta.shape[0] - val_split_idx:]\n",
    "\n",
    "test_meta = test_meta[selection]\n",
    "\n",
    "#Setting train, validation and test set target folder\n",
    "#target folder - train\n",
    "trainfolder = \"../data/food-101/train_img/\"\n",
    "\n",
    "#target folder - validation\n",
    "validfolder = \"../data/food-101/valid_img/\"\n",
    "\n",
    "#target folder -test\n",
    "testfolder = \"../data/food-101/test_img/\"\n",
    "\n",
    "print(\"{} images used for training\".format(train_meta.shape[0]*train_meta.shape[1]))\n",
    "print(\"{} images used for validation\".format(valid_meta.shape[0]*valid_meta.shape[1]))\n",
    "print(\"{} images used for testing\".format(test_meta.shape[0]*test_meta.shape[1]))"
   ]
  },
  {
   "cell_type": "code",
   "execution_count": 12,
   "metadata": {},
   "outputs": [],
   "source": [
    "#dividing into train and test set using the json metadata \n",
    "\n",
    "def organise_files_from_df(df, datafolder, datatarget):\n",
    "    \"\"\"\n",
    "    This function moves files contained in a folder (datafolder) to a target path (datatarget),\n",
    "    based on the information contained on a dataframe (df) where each column corresponds to a \n",
    "    class name (sub-folder). Every column of the dataset contains a list of filenames to be moved.\n",
    "    \"\"\"\n",
    "    \n",
    "    #creating target folder\n",
    "    if not path.exists(datatarget):\n",
    "        os.mkdir(datatarget)\n",
    "    \n",
    "    #iterating through dataframe columns ( =  labels)\n",
    "    for label in list(df.columns):\n",
    "        \n",
    "        #create folder\n",
    "        foldername = datatarget + str(label)\n",
    "        \n",
    "        if not path.exists(foldername):\n",
    "            os.mkdir(foldername)\n",
    "        \n",
    "        #move each file\n",
    "        for file in list(df[label]):\n",
    "            \n",
    "            fileoriginal =  datafolder + file + \".jpg\"\n",
    "            filetarget = datatarget +\"/\" + file + \".jpg\"\n",
    "            \n",
    "            try:\n",
    "                if not path.exists(filetarget):\n",
    "                    shutil.copyfile(fileoriginal, filetarget)\n",
    "\n",
    "            except FileNotFoundError:\n",
    "                print(\"File {} not found!\".format(file))\n",
    "                pass\n",
    "\n",
    "#origin folder\n",
    "imagefolder = \"../data/food-101/images/\"\n",
    "\n",
    "\n",
    "organise_files_from_df(train_meta, imagefolder, trainfolder)\n",
    "\n",
    "\n",
    "organise_files_from_df(valid_meta, imagefolder, validfolder)\n",
    "\n",
    "organise_files_from_df(test_meta, imagefolder, testfolder)\n",
    "\n",
    "#to delete the origin folder, uncomment the line below\n",
    "#shutil.rmtree(imagefolder)"
   ]
  },
  {
   "cell_type": "markdown",
   "metadata": {},
   "source": [
    "> ### Transformers set-up for train, validation and test data"
   ]
  },
  {
   "cell_type": "code",
   "execution_count": null,
   "metadata": {},
   "outputs": [],
   "source": [
    "#Norm values\n",
    "norm_mean = [0.485, 0.456, 0.406]\n",
    "norm_std = [0.229, 0.224, 0.225]\n",
    "\n",
    "#Img size parameters\n",
    "img_short_side_resize = 256\n",
    "img_input_size = 224\n",
    "\n",
    "import os\n",
    "from torchvision import datasets\n",
    "import torchvision.transforms as transforms\n",
    "\n",
    "\n",
    "transform_train = transforms.Compose([\n",
    "                    transforms.Resize(img_short_side_resize),\n",
    "                    transforms.ColorJitter(brightness=0.2, contrast=0.2, saturation=0.2, hue=0.1),\n",
    "                    transforms.RandomHorizontalFlip(),\n",
    "                    transforms.RandomResizedCrop(img_input_size, scale=(0.08,1), ratio=(1,1)), \n",
    "                    transforms.ToTensor(),\n",
    "                    transforms.Normalize(mean = norm_mean, std = norm_std)])\n",
    "transform_test = transforms.Compose([\n",
    "                    transforms.Resize(img_input_size),  \n",
    "                    transforms.FiveCrop(img_input_size),\n",
    "                    transforms.Lambda(lambda crops: torch.stack([transforms.Compose([\n",
    "                    transforms.ToTensor(),\n",
    "                    transforms.Normalize(mean = norm_mean, std = norm_std)])(crop) for crop in crops]))])\n",
    "\n",
    "train_data = datasets.ImageFolder(trainfolder, transform_train)\n",
    "valid_data = datasets.ImageFolder(validfolder, transform_test)\n",
    "test_data = datasets.ImageFolder(testfolder, transform_test)"
   ]
  },
  {
   "cell_type": "markdown",
   "metadata": {},
   "source": [
    "> ### Data loaders"
   ]
  },
  {
   "cell_type": "code",
   "execution_count": null,
   "metadata": {},
   "outputs": [],
   "source": [
    "import torch\n",
    "\n",
    "shuffle = True\n",
    "num_workers = 16\n",
    "batch_size = 64\n",
    "\n",
    "# Create the data loaders\n",
    "data = {\"train\" : train_data, \"val\":valid_data, \"test\" : test_data}\n",
    "\n",
    "train_loader = torch.utils.data.DataLoader(data[\"train\"], batch_size=batch_size, num_workers=num_workers, shuffle=shuffle, pin_memory=True)\n",
    "\n",
    "#### --- NOTE on num_workers if using 5crop and batch_size for testing --- ###\n",
    "# If using the 5crop test time augmentation, num_workers = 0 (an error is raised otherwise) \n",
    "# batch_size needs to be reduced during testing due to memory requirements\n",
    "valid_loader = torch.utils.data.DataLoader(data[\"val\"], batch_size=int(np.floor(batch_size/5)), num_workers=0, shuffle=shuffle, pin_memory=True)\n",
    "\n",
    "test_loader = torch.utils.data.DataLoader(data[\"test\"], batch_size=int(np.floor(batch_size/5)), num_workers=0, shuffle=shuffle, pin_memory=True)\n",
    "loaders_transfer = {\"train\" : train_loader, \"val\":valid_loader, \"test\" : test_loader}"
   ]
  },
  {
   "cell_type": "markdown",
   "metadata": {},
   "source": [
    "> ### CPU vs GPU "
   ]
  },
  {
   "cell_type": "code",
   "execution_count": null,
   "metadata": {},
   "outputs": [],
   "source": [
    "#setting CPU vs GPU\n",
    "\n",
    "use_cuda = torch.cuda.is_available()\n",
    "if not use_cuda:\n",
    "    print('CUDA is not available.  Training on CPU ...')\n",
    "    device = \"cpu\"\n",
    "else:\n",
    "    print('CUDA is available!  Training on GPU ...')\n",
    "    device = torch.device(\"cuda:0\")\n",
    "    print(\"Using\",torch.cuda.get_device_name(device))"
   ]
  },
  {
   "cell_type": "markdown",
   "metadata": {},
   "source": [
    "> ### Loading pre-trained ResNet for transfer learning\n",
    "- slice off the end of the neural network\n",
    "- add a new fully connected layer that matches the number of classes in the new data set\n",
    "- randomize the weights of the new fully connected layer; freeze all the weights from the pre-trained network\n",
    "- train the network to update the weights of the new fully connected layer"
   ]
  },
  {
   "cell_type": "code",
   "execution_count": null,
   "metadata": {},
   "outputs": [],
   "source": [
    "import torchvision.models as models\n",
    "import torch.nn as nn\n",
    "\n",
    "model_transfer = models.resnet50(pretrained=True)\n",
    "\n",
    "#freezing the parameters\n",
    "for param in model_transfer.parameters():\n",
    "    param.requires_grad = False\n",
    "    \n",
    "n_classes = len(train_data.classes)\n",
    "\n",
    "# Replacing the last layer with a fully connected layer to retrain\n",
    "model_transfer.fc = nn.Linear(model_transfer.fc.in_features,n_classes)\n",
    "\n",
    "# Initialize the weights of the new layer\n",
    "nn.init.kaiming_normal_(model_transfer.fc.weight, nonlinearity='relu')\n",
    "\n",
    "# Transfer to GPU \n",
    "model_transfer = model_transfer.to(device)"
   ]
  },
  {
   "cell_type": "markdown",
   "metadata": {},
   "source": [
    "> ### Loss function and optimizer"
   ]
  },
  {
   "cell_type": "code",
   "execution_count": null,
   "metadata": {},
   "outputs": [],
   "source": [
    "#specify loss function and optimizer\n",
    "import torch.optim as optim\n",
    "from torch.optim.lr_scheduler import ReduceLROnPlateau\n",
    "\n",
    "criterion_transfer = nn.CrossEntropyLoss()\n",
    "optimizer_transfer = optim.Adam(model_transfer.parameters(),3e-4) \n",
    "scheduler_transfer = ReduceLROnPlateau(optimizer_transfer, 'min', verbose = True, factor = 0.5, patience = 7)"
   ]
  },
  {
   "cell_type": "markdown",
   "metadata": {},
   "source": [
    "> ### Training function implementation"
   ]
  },
  {
   "cell_type": "code",
   "execution_count": null,
   "metadata": {},
   "outputs": [],
   "source": [
    "import time\n",
    "import datetime\n",
    "\n",
    "def train_epoch(model,train_loader,optimizer,criterion,device):\n",
    "    \"\"\"\n",
    "    train steps at each epoch\n",
    "    \"\"\"\n",
    "    train_loss = 0.0\n",
    "    \n",
    "    model.train()\n",
    "    \n",
    "    for batch_idx, (data, target) in enumerate(train_loader):\n",
    "        \n",
    "        data, target = data.to(device), target.to(device) # move to GPU\n",
    "        \n",
    "        optimizer.zero_grad() # set gradients to 0\n",
    "        \n",
    "        output = model(data) # get output\n",
    "        \n",
    "        loss = criterion(output, target) # calculate loss\n",
    "        train_loss += loss.item() * data.size(0)\n",
    "        \n",
    "        loss.backward() # calculate gradients\n",
    "        \n",
    "        optimizer.step() # take step\n",
    "        \n",
    "    train_loss = train_loss / len(train_loader.dataset)\n",
    "    return model, train_loss\n",
    "        \n",
    "def valid_epoch(model, valid_loader, criterion, device, fivecrop):\n",
    "    \"\"\"\n",
    "    validation prediction steps at each epoch\n",
    "    \"\"\"\n",
    "    valid_loss = 0.0\n",
    "    \n",
    "    model.eval()\n",
    "    \n",
    "    with torch.no_grad():\n",
    "        for data, target in valid_loader:\n",
    "            \n",
    "            data, target = data.to(device), target.to(device) # move to GPU\n",
    "            \n",
    "            # if we do test time augmentation with 5crop we'll have an extra dimension in our tensor\n",
    "            if fivecrop == \"mean\":\n",
    "                bs, ncrops, c, h, w = data.size()\n",
    "                output = model(data.view(-1, c, h, w)) # fuse batch size and ncrops\n",
    "                output = output.view(bs, ncrops, -1).mean(1)\n",
    "            elif fivecrop == \"max\":\n",
    "                bs, ncrops, c, h, w = data.size()\n",
    "                output = model(data.view(-1, c, h, w)) # fuse batch size and ncrops\n",
    "                output = output.view(bs, ncrops, -1).max(1)[0]\n",
    "            else:\n",
    "                output = model(data)\n",
    "                \n",
    "            ## update the average validation loss\n",
    "            loss = criterion(output, target)\n",
    "            valid_loss += loss.item() * data.size(0)\n",
    "            \n",
    "    valid_loss = valid_loss / len(valid_loader.dataset) \n",
    "    return valid_loss\n",
    "\n",
    "\n",
    "def train(n_epochs, loaders, model, optimizer, criterion, device, path_model, fivecrop = None, lr_scheduler = None):\n",
    "    \"\"\"\n",
    "    model training\n",
    "    \"\"\"\n",
    "    \n",
    "    # initialize tracker for minimum validation loss\n",
    "    valid_loss_min = np.Inf \n",
    "    train_loss = []\n",
    "    valid_loss = []\n",
    "    \n",
    "    time_start = time.time()\n",
    "    \n",
    "    for epoch in range(1, n_epochs+1):\n",
    "        \n",
    "        time_start_epoch = time.time()  \n",
    "        \n",
    "        # train current epoch\n",
    "        model, train_loss_epoch = train_epoch(model,loaders[\"train\"],optimizer,criterion,device) \n",
    "        train_loss.append(train_loss_epoch)   \n",
    "        \n",
    "        # validate current epoch\n",
    "        valid_loss_epoch = valid_epoch(model,loaders[\"val\"],criterion,device,fivecrop)\n",
    "        \n",
    "        # learning rate scheduler\n",
    "        if lr_scheduler is not None:\n",
    "            lr_scheduler.step(valid_loss_epoch)\n",
    "        valid_loss.append(valid_loss_epoch)  \n",
    "        \n",
    "        if valid_loss_epoch <= valid_loss_min: # save if validation loss is the lowest so far\n",
    "            torch.save(model.state_dict(), path_model)\n",
    "            valid_loss_min = valid_loss_epoch \n",
    "            \n",
    "        # print epoch stats\n",
    "        currentDT = datetime.datetime.now()\n",
    "        exact_time =  str(currentDT.hour) + \":\" + str(currentDT.minute) + \":\" + str(currentDT.second)\n",
    "        print('Epoch {} done in {:.2f} seconds at {}. \\tTraining Loss: {:.3f} \\tValidation Loss: {:.3f}'.format( \n",
    "            epoch,             \n",
    "            time.time() - time_start_epoch,\n",
    "            exact_time,\n",
    "            train_loss_epoch,\n",
    "            valid_loss_epoch\n",
    "            ))   \n",
    "        \n",
    "    # print final statistics    \n",
    "    print(f\"{n_epochs} epochs trained in {(time.time() - time_start):.3f} seconds. \") #Minimum validation loss: {valid_loss_min:.3f}\")\n",
    "    \n",
    "    # Load best config\n",
    "    model.load_state_dict(torch.load(path_model))\n",
    "    \n",
    "    return model"
   ]
  },
  {
   "cell_type": "markdown",
   "metadata": {},
   "source": [
    "> ## Training"
   ]
  },
  {
   "cell_type": "code",
   "execution_count": null,
   "metadata": {},
   "outputs": [],
   "source": [
    "# train the model\n",
    "n_epochs = 50\n",
    "\n",
    "model_transfer = train(n_epochs, \n",
    "                       loaders_transfer, \n",
    "                       model_transfer, \n",
    "                       optimizer_transfer, \n",
    "                       criterion_transfer, \n",
    "                       device, \n",
    "                       'model_transfer.pt', \n",
    "                       fivecrop = \"mean\", \n",
    "                       lr_scheduler = scheduler_transfer)"
   ]
  },
  {
   "cell_type": "markdown",
   "metadata": {},
   "source": [
    "> ### Testing function implementation"
   ]
  },
  {
   "cell_type": "code",
   "execution_count": null,
   "metadata": {},
   "outputs": [],
   "source": [
    "def test(loaders, model, criterion, device):\n",
    "    \"\"\"\n",
    "    test function\n",
    "    \"\"\"\n",
    "    \n",
    "    test_loss = 0.\n",
    "    correct = 0.\n",
    "    total = 0.\n",
    "    \n",
    "    model.eval()\n",
    "    \n",
    "    with torch.no_grad():\n",
    "        \n",
    "        for batch_idx, (data, target) in enumerate(loaders['test']):\n",
    "            \n",
    "            data, target = data.to(device), target.to(device) # move to GPU\n",
    "            \n",
    "            bs, ncrops, c, h, w = data.size()\n",
    "            \n",
    "            # forward pass: compute predicted outputs by passing inputs to the model\n",
    "            output = model(data.view(-1, c, h, w)) # fuse batch size and ncrops\n",
    "            output = output.view(bs, ncrops, -1).mean(1)    \n",
    "            \n",
    "            loss = criterion(output, target) # calculate the loss\n",
    "            \n",
    "            test_loss = test_loss + ((1 / (batch_idx + 1)) * (loss.data - test_loss)) # update average test loss \n",
    "            \n",
    "            pred = output.data.max(1, keepdim=True)[1] # convert output probabilities to predicted class\n",
    "            \n",
    "            # compare predictions to true label\n",
    "            correct += np.sum(np.squeeze(pred.eq(target.data.view_as(pred))).cpu().numpy()) \n",
    "            total += data.size(0)            \n",
    "            \n",
    "    print('Test Loss: {:.6f}\\n'.format(test_loss))\n",
    "    print('\\nTest Accuracy: %2d%% (%2d/%2d)' % (\n",
    "        100. * correct / total, correct, total))"
   ]
  },
  {
   "cell_type": "markdown",
   "metadata": {},
   "source": [
    "> ## Testing"
   ]
  },
  {
   "cell_type": "code",
   "execution_count": null,
   "metadata": {},
   "outputs": [],
   "source": [
    "test(loaders_transfer, model_transfer, criterion_transfer, device)"
   ]
  }
 ],
 "metadata": {
  "kernelspec": {
   "display_name": "Python 3",
   "language": "python",
   "name": "python3"
  },
  "language_info": {
   "codemirror_mode": {
    "name": "ipython",
    "version": 3
   },
   "file_extension": ".py",
   "mimetype": "text/x-python",
   "name": "python",
   "nbconvert_exporter": "python",
   "pygments_lexer": "ipython3",
   "version": "3.6.7"
  }
 },
 "nbformat": 4,
 "nbformat_minor": 4
}
