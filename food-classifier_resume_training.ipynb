{
 "cells": [
  {
   "cell_type": "markdown",
   "metadata": {},
   "source": [
    "# Resuming the training on an already trained model"
   ]
  },
  {
   "cell_type": "markdown",
   "metadata": {},
   "source": [
    "After 150 epoch of Sagemaker training (almost 3 days long), the model reached an accuracy of 66% on the full test set.  \n",
    "This is an attempt of continuing the training locally adding more epochs."
   ]
  },
  {
   "cell_type": "code",
   "execution_count": 1,
   "metadata": {},
   "outputs": [],
   "source": [
    "#importing essential modules\n",
    "import pandas as pd\n",
    "import numpy as np\n",
    "from random import seed, choice\n",
    "import os\n",
    "import matplotlib.pyplot as plt\n",
    "from os import path"
   ]
  },
  {
   "cell_type": "code",
   "execution_count": 2,
   "metadata": {},
   "outputs": [],
   "source": [
    "#Setting train, validation and test set target folder\n",
    "#target folder - train\n",
    "trainfolder = \"../data/food-101/train_img/\"\n",
    "\n",
    "#target folder - validation\n",
    "validfolder = \"../data/food-101/valid_img/\"\n",
    "\n",
    "#target folder -test\n",
    "testfolder = \"../data/food-101/test_img/\""
   ]
  },
  {
   "cell_type": "markdown",
   "metadata": {},
   "source": [
    "> ### Transformers set-up for train, validation and test data"
   ]
  },
  {
   "cell_type": "code",
   "execution_count": 3,
   "metadata": {},
   "outputs": [],
   "source": [
    "#Norm values\n",
    "norm_mean = [0.485, 0.456, 0.406]\n",
    "norm_std = [0.229, 0.224, 0.225]\n",
    "\n",
    "#Img size parameters\n",
    "img_short_side_resize = 256\n",
    "img_input_size = 224\n",
    "\n",
    "import os\n",
    "from torchvision import datasets\n",
    "import torchvision.transforms as transforms\n",
    "\n",
    "\n",
    "transform_train = transforms.Compose([\n",
    "                    transforms.Resize(img_short_side_resize),\n",
    "                    transforms.ColorJitter(brightness=0.2, contrast=0.2, saturation=0.2, hue=0.1),\n",
    "                    transforms.RandomHorizontalFlip(),\n",
    "                    transforms.RandomResizedCrop(img_input_size, scale=(0.08,1), ratio=(1,1)), \n",
    "                    transforms.ToTensor(),\n",
    "                    transforms.Normalize(mean = norm_mean, std = norm_std)])\n",
    "transform_test = transforms.Compose([\n",
    "                    transforms.Resize(img_input_size),  \n",
    "                    transforms.FiveCrop(img_input_size),\n",
    "                    transforms.Lambda(lambda crops: torch.stack([transforms.Compose([\n",
    "                    transforms.ToTensor(),\n",
    "                    transforms.Normalize(mean = norm_mean, std = norm_std)])(crop) for crop in crops]))])\n",
    "\n",
    "train_data = datasets.ImageFolder(trainfolder, transform_train)\n",
    "valid_data = datasets.ImageFolder(validfolder, transform_test)\n",
    "test_data = datasets.ImageFolder(testfolder, transform_test)"
   ]
  },
  {
   "cell_type": "markdown",
   "metadata": {},
   "source": [
    "> ### Data loaders"
   ]
  },
  {
   "cell_type": "code",
   "execution_count": 4,
   "metadata": {},
   "outputs": [],
   "source": [
    "import torch\n",
    "\n",
    "shuffle = True\n",
    "num_workers = 16\n",
    "batch_size = 64\n",
    "\n",
    "# Create the data loaders\n",
    "data = {\"train\" : train_data, \"val\":valid_data, \"test\" : test_data}\n",
    "\n",
    "train_loader = torch.utils.data.DataLoader(data[\"train\"], batch_size=batch_size, num_workers=num_workers, shuffle=shuffle, pin_memory=True)\n",
    "\n",
    "#### --- NOTE on num_workers if using 5crop and batch_size for testing --- ###\n",
    "# If using the 5crop test time augmentation, num_workers = 0 (an error is raised otherwise) \n",
    "# batch_size needs to be reduced during testing due to memory requirements\n",
    "valid_loader = torch.utils.data.DataLoader(data[\"val\"], batch_size=int(np.floor(batch_size/5)), num_workers=0, shuffle=shuffle, pin_memory=True)\n",
    "\n",
    "test_loader = torch.utils.data.DataLoader(data[\"test\"], batch_size=int(np.floor(batch_size/5)), num_workers=0, shuffle=shuffle, pin_memory=True)\n",
    "loaders_transfer = {\"train\" : train_loader, \"val\":valid_loader, \"test\" : test_loader}"
   ]
  },
  {
   "cell_type": "markdown",
   "metadata": {},
   "source": [
    "> ### CPU vs GPU "
   ]
  },
  {
   "cell_type": "code",
   "execution_count": 5,
   "metadata": {},
   "outputs": [
    {
     "name": "stdout",
     "output_type": "stream",
     "text": [
      "CUDA is available!  Training on GPU ...\n",
      "Using GeForce GTX 960M\n"
     ]
    }
   ],
   "source": [
    "#setting CPU vs GPU\n",
    "\n",
    "use_cuda = torch.cuda.is_available()\n",
    "if not use_cuda:\n",
    "    print('CUDA is not available.  Training on CPU ...')\n",
    "    device = \"cpu:1\"\n",
    "else:\n",
    "    print('CUDA is available!  Training on GPU ...')\n",
    "    device = torch.device(\"cuda\")\n",
    "    print(\"Using\",torch.cuda.get_device_name(device))"
   ]
  },
  {
   "cell_type": "markdown",
   "metadata": {},
   "source": [
    "> ### Loading trained ResNet for prosecuting learning"
   ]
  },
  {
   "cell_type": "code",
   "execution_count": 6,
   "metadata": {},
   "outputs": [],
   "source": [
    "import torchvision.models as models\n",
    "import torch.nn as nn\n",
    "\n",
    "model_transfer = models.resnet50(pretrained=True)\n",
    "\n",
    "#freezing the parameters\n",
    "for param in model_transfer.parameters():\n",
    "    param.requires_grad = False\n",
    "    \n",
    "n_classes = len(train_data.classes)\n",
    "\n",
    "# Replacing the last layer with a fully connected layer to retrain\n",
    "model_transfer.fc = nn.Linear(model_transfer.fc.in_features,n_classes)\n",
    "\n",
    "# Initialize the weights of the new layer\n",
    "nn.init.kaiming_normal_(model_transfer.fc.weight, nonlinearity='relu')\n",
    "\n",
    "# Transfer to GPU \n",
    "model_transfer = model_transfer.to(device)"
   ]
  },
  {
   "cell_type": "code",
   "execution_count": 7,
   "metadata": {},
   "outputs": [],
   "source": [
    "#specify loss function and optimizer\n",
    "import torch.optim as optim\n",
    "from torch.optim.lr_scheduler import ReduceLROnPlateau\n",
    "\n",
    "criterion_transfer = nn.CrossEntropyLoss()\n",
    "optimizer_transfer = optim.Adam(model_transfer.parameters(),3e-4) \n",
    "scheduler_transfer = ReduceLROnPlateau(optimizer_transfer, 'min', verbose = True, factor = 0.5, patience = 7)"
   ]
  },
  {
   "cell_type": "code",
   "execution_count": 8,
   "metadata": {},
   "outputs": [],
   "source": [
    "def load_checkpoint(model, optimizer, scheduler, losslogger, filename='models/model_resumed_101cat.pt.tar'):\n",
    "    # Note: Input model & optimizer should be pre-defined.  This routine only updates their states.\n",
    "    start_epoch = 0\n",
    "    if os.path.isfile(filename):\n",
    "        print(\"=> loading checkpoint '{}'\".format(filename))\n",
    "        checkpoint = torch.load(filename)\n",
    "        \n",
    "        start_epoch = checkpoint['epoch']\n",
    "        \n",
    "        model.load_state_dict(checkpoint['model_state_dict'])\n",
    "        \n",
    "        optimizer.load_state_dict(checkpoint['optimizer_state_dict'])\n",
    "        \n",
    "        scheduler.load_state_dict(checkpoint['scheduler'])\n",
    "        \n",
    "        losslogger = checkpoint['valid_loss_min']\n",
    "        print(\"=> loaded checkpoint '{}' (epoch {})\"\n",
    "                  .format(filename, checkpoint['epoch']))\n",
    "    else:\n",
    "        print(\"=> no checkpoint found at '{}'\".format(filename))\n",
    "\n",
    "    return model, optimizer, scheduler, start_epoch, losslogger"
   ]
  },
  {
   "cell_type": "code",
   "execution_count": 9,
   "metadata": {},
   "outputs": [
    {
     "name": "stdout",
     "output_type": "stream",
     "text": [
      "=> loading checkpoint 'models/model_resumed_101cat.pt.tar'\n",
      "=> loaded checkpoint 'models/model_resumed_101cat.pt.tar' (epoch 22)\n"
     ]
    }
   ],
   "source": [
    "model_retr, optimizer, scheduler, start_epoch, losslogger = load_checkpoint(model_transfer, optimizer_transfer, scheduler_transfer, criterion_transfer)\n",
    "model_retr = model_retr.to(device)\n",
    "\n",
    "# now individually transfer the optimizer parts...\n",
    "for state in optimizer.state.values():\n",
    "    for k, v in state.items():\n",
    "        if isinstance(v, torch.Tensor):\n",
    "            state[k] = v.to(device)"
   ]
  },
  {
   "cell_type": "markdown",
   "metadata": {},
   "source": [
    "> ### Training function implementation"
   ]
  },
  {
   "cell_type": "code",
   "execution_count": 10,
   "metadata": {},
   "outputs": [],
   "source": [
    "import time\n",
    "import datetime\n",
    "\n",
    "def train_epoch(model,train_loader,optimizer,criterion,device):\n",
    "    \"\"\"\n",
    "    train steps at each epoch\n",
    "    \"\"\"\n",
    "    train_loss = 0.0\n",
    "    \n",
    "    model.train()\n",
    "    \n",
    "    for batch_idx, (data, target) in enumerate(train_loader):\n",
    "        \n",
    "        data, target = data.to(device), target.to(device) # move to GPU\n",
    "        \n",
    "        optimizer.zero_grad() # set gradients to 0\n",
    "        \n",
    "        output = model(data) # get output\n",
    "        \n",
    "        loss = criterion(output, target) # calculate loss\n",
    "        train_loss += loss.item() * data.size(0)\n",
    "        \n",
    "        loss.backward() # calculate gradients\n",
    "        \n",
    "        optimizer.step() # take step\n",
    "        \n",
    "    train_loss = train_loss / len(train_loader.dataset)\n",
    "    return model, train_loss\n",
    "        \n",
    "def valid_epoch(model, valid_loader, criterion, device, fivecrop):\n",
    "    \"\"\"\n",
    "    validation prediction steps at each epoch\n",
    "    \"\"\"\n",
    "    valid_loss = 0.0\n",
    "    \n",
    "    model.eval()\n",
    "    \n",
    "    with torch.no_grad():\n",
    "        for data, target in valid_loader:\n",
    "            \n",
    "            data, target = data.to(device), target.to(device) # move to GPU\n",
    "            \n",
    "            # if we do test time augmentation with 5crop we'll have an extra dimension in our tensor\n",
    "            if fivecrop == \"mean\":\n",
    "                bs, ncrops, c, h, w = data.size()\n",
    "                output = model(data.view(-1, c, h, w)) # fuse batch size and ncrops\n",
    "                output = output.view(bs, ncrops, -1).mean(1)\n",
    "            elif fivecrop == \"max\":\n",
    "                bs, ncrops, c, h, w = data.size()\n",
    "                output = model(data.view(-1, c, h, w)) # fuse batch size and ncrops\n",
    "                output = output.view(bs, ncrops, -1).max(1)[0]\n",
    "            else:\n",
    "                output = model(data)\n",
    "                \n",
    "            ## update the average validation loss\n",
    "            loss = criterion(output, target)\n",
    "            valid_loss += loss.item() * data.size(0)\n",
    "            \n",
    "    valid_loss = valid_loss / len(valid_loader.dataset) \n",
    "    return valid_loss\n",
    "\n",
    "\n",
    "def train(n_epochs, loaders, model, optimizer, criterion, device, path_model, fivecrop = None, lr_scheduler = None, valid_loss_min = np.Inf, start_epoch=1):\n",
    "    \"\"\"\n",
    "    model training\n",
    "    \"\"\"\n",
    "     \n",
    "    train_loss = []\n",
    "    valid_loss = []\n",
    "    \n",
    "    time_start = time.time()\n",
    "    best_epoch = 0\n",
    "    \n",
    "    for epoch in range(start_epoch, start_epoch + n_epochs):\n",
    "        \n",
    "        time_start_epoch = time.time()  \n",
    "        \n",
    "        # train current epoch\n",
    "        model, train_loss_epoch = train_epoch(model,loaders[\"train\"],optimizer,criterion,device) \n",
    "        train_loss.append(train_loss_epoch)   \n",
    "        \n",
    "        # validate current epoch\n",
    "        valid_loss_epoch = valid_epoch(model,loaders[\"val\"],criterion,device,fivecrop)\n",
    "        \n",
    "        # learning rate scheduler\n",
    "        if lr_scheduler is not None:\n",
    "            lr_scheduler.step(valid_loss_epoch)\n",
    "        valid_loss.append(valid_loss_epoch)  \n",
    "        \n",
    "        is_best = False\n",
    "        \n",
    "        if valid_loss_epoch <= valid_loss_min: # save if validation loss is the lowest so far\n",
    "            torch.save(model.state_dict(), path_model)\n",
    "            valid_loss_min = valid_loss_epoch \n",
    "            best_epoch = epoch\n",
    "            is_best = True\n",
    "            \n",
    "        # print epoch stats\n",
    "        currentDT = datetime.datetime.now()\n",
    "        exact_time =  str(currentDT.hour) + \":\" + str(currentDT.minute) + \":\" + str(currentDT.second)\n",
    "        print('Epoch {} done in {:.2f} seconds at {}. \\tTraining Loss: {:.3f} \\tValidation Loss: {:.3f}'.format( \n",
    "            epoch,             \n",
    "            time.time() - time_start_epoch,\n",
    "            exact_time,\n",
    "            train_loss_epoch,\n",
    "            valid_loss_epoch\n",
    "            ))   \n",
    "        \n",
    "        #save the best model status for resuming training\n",
    "        if is_best:\n",
    "            model_status = {\n",
    "                    'epoch': epoch,\n",
    "                    'model_state_dict': model.state_dict(),\n",
    "                    'optimizer_state_dict': optimizer.state_dict(), \n",
    "                    'train_loss': train_loss,\n",
    "                    'valid_loss': valid_loss_epoch,\n",
    "                    'valid_loss_min': valid_loss_min}\n",
    "\n",
    "            if lr_scheduler is not None:\n",
    "                model_status['scheduler'] = lr_scheduler.state_dict()\n",
    "\n",
    "            torch.save(model_status, path_model + \".tar\")\n",
    "        \n",
    "    # print final statistics    \n",
    "    print(f\"{n_epochs} epochs trained in {(time.time() - time_start):.3f} seconds. \") \n",
    "    \n",
    "    print(\"Best model obtained at epoch {} with minimum validation loss : {:.3f}\".format(best_epoch, valid_loss_min)) \n",
    "    \n",
    "    # Load best config\n",
    "    model.load_state_dict(torch.load(path_model))\n",
    "    \n",
    "    return model"
   ]
  },
  {
   "cell_type": "markdown",
   "metadata": {},
   "source": [
    "> ## Training"
   ]
  },
  {
   "cell_type": "code",
   "execution_count": 11,
   "metadata": {},
   "outputs": [
    {
     "name": "stdout",
     "output_type": "stream",
     "text": [
      "Epoch 23 done in 2028.22 seconds at 23:42:23. \tTraining Loss: 2.006 \tValidation Loss: 1.513\n",
      "Epoch 24 done in 2983.97 seconds at 0:32:7. \tTraining Loss: 1.999 \tValidation Loss: 1.501\n",
      "Epoch 25 done in 2691.70 seconds at 1:16:59. \tTraining Loss: 2.001 \tValidation Loss: 1.490\n",
      "Epoch 26 done in 2649.42 seconds at 2:1:9. \tTraining Loss: 1.996 \tValidation Loss: 1.499\n",
      "Epoch 27 done in 2574.54 seconds at 2:44:3. \tTraining Loss: 1.992 \tValidation Loss: 1.496\n",
      "Epoch 28 done in 2519.43 seconds at 3:26:3. \tTraining Loss: 1.987 \tValidation Loss: 1.490\n",
      "Epoch 29 done in 2525.10 seconds at 4:8:8. \tTraining Loss: 1.982 \tValidation Loss: 1.474\n",
      "Epoch 30 done in 2433.30 seconds at 4:48:41. \tTraining Loss: 1.967 \tValidation Loss: 1.476\n",
      "Epoch 31 done in 2411.66 seconds at 5:28:53. \tTraining Loss: 1.981 \tValidation Loss: 1.459\n",
      "Epoch 32 done in 2386.40 seconds at 6:8:40. \tTraining Loss: 1.962 \tValidation Loss: 1.441\n",
      "Epoch 33 done in 2357.55 seconds at 6:47:57. \tTraining Loss: 1.957 \tValidation Loss: 1.479\n",
      "11 epochs trained in 27562.868 seconds. \n",
      "Best model obtained at epoch 32 with minimum validation loss : 1.441\n"
     ]
    }
   ],
   "source": [
    "# train the model\n",
    "n_epochs = 11\n",
    "\n",
    "nc = 101\n",
    "\n",
    "model_resumed = train(n_epochs, \n",
    "                       loaders_transfer, \n",
    "                       model_retr, \n",
    "                       optimizer_transfer, \n",
    "                       criterion_transfer, \n",
    "                       device, \n",
    "                       'models/model_resumed_{}cat.pt'.format(nc), \n",
    "                       fivecrop = \"mean\", \n",
    "                       lr_scheduler = scheduler_transfer,\n",
    "                       valid_loss_min = losslogger,\n",
    "                       start_epoch = start_epoch + 1)"
   ]
  },
  {
   "cell_type": "code",
   "execution_count": null,
   "metadata": {},
   "outputs": [],
   "source": []
  }
 ],
 "metadata": {
  "kernelspec": {
   "display_name": "Python 3",
   "language": "python",
   "name": "python3"
  },
  "language_info": {
   "codemirror_mode": {
    "name": "ipython",
    "version": 3
   },
   "file_extension": ".py",
   "mimetype": "text/x-python",
   "name": "python",
   "nbconvert_exporter": "python",
   "pygments_lexer": "ipython3",
   "version": "3.6.7"
  }
 },
 "nbformat": 4,
 "nbformat_minor": 4
}
