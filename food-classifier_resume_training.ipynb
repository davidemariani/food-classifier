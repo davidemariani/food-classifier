{
 "cells": [
  {
   "cell_type": "markdown",
   "metadata": {},
   "source": [
    "# Resuming the training on an already trained model"
   ]
  },
  {
   "cell_type": "markdown",
   "metadata": {},
   "source": [
    "After 150 epoch of Sagemaker training (almost 3 days long), the model reached an accuracy of 66% on the full test set.  \n",
    "This is an attempt of continuing the training locally adding more epochs."
   ]
  },
  {
   "cell_type": "code",
   "execution_count": 1,
   "metadata": {},
   "outputs": [],
   "source": [
    "#importing essential modules\n",
    "import pandas as pd\n",
    "import numpy as np\n",
    "from random import seed, choice\n",
    "import os\n",
    "import matplotlib.pyplot as plt\n",
    "from os import path"
   ]
  },
  {
   "cell_type": "code",
   "execution_count": 2,
   "metadata": {},
   "outputs": [],
   "source": [
    "#Setting train, validation and test set target folder\n",
    "#target folder - train\n",
    "trainfolder = \"../data/food-101/train_img/\"\n",
    "\n",
    "#target folder - validation\n",
    "validfolder = \"../data/food-101/valid_img/\"\n",
    "\n",
    "#target folder -test\n",
    "testfolder = \"../data/food-101/test_img/\""
   ]
  },
  {
   "cell_type": "markdown",
   "metadata": {},
   "source": [
    "> ### Transformers set-up for train, validation and test data"
   ]
  },
  {
   "cell_type": "code",
   "execution_count": 3,
   "metadata": {},
   "outputs": [],
   "source": [
    "#Norm values\n",
    "norm_mean = [0.485, 0.456, 0.406]\n",
    "norm_std = [0.229, 0.224, 0.225]\n",
    "\n",
    "#Img size parameters\n",
    "img_short_side_resize = 256\n",
    "img_input_size = 224\n",
    "\n",
    "import os\n",
    "from torchvision import datasets\n",
    "import torchvision.transforms as transforms\n",
    "\n",
    "\n",
    "transform_train = transforms.Compose([\n",
    "                    transforms.Resize(img_short_side_resize),\n",
    "                    transforms.ColorJitter(brightness=0.2, contrast=0.2, saturation=0.2, hue=0.1),\n",
    "                    transforms.RandomHorizontalFlip(),\n",
    "                    transforms.RandomResizedCrop(img_input_size, scale=(0.08,1), ratio=(1,1)), \n",
    "                    transforms.ToTensor(),\n",
    "                    transforms.Normalize(mean = norm_mean, std = norm_std)])\n",
    "transform_test = transforms.Compose([\n",
    "                    transforms.Resize(img_input_size),  \n",
    "                    transforms.FiveCrop(img_input_size),\n",
    "                    transforms.Lambda(lambda crops: torch.stack([transforms.Compose([\n",
    "                    transforms.ToTensor(),\n",
    "                    transforms.Normalize(mean = norm_mean, std = norm_std)])(crop) for crop in crops]))])\n",
    "\n",
    "train_data = datasets.ImageFolder(trainfolder, transform_train)\n",
    "valid_data = datasets.ImageFolder(validfolder, transform_test)\n",
    "test_data = datasets.ImageFolder(testfolder, transform_test)"
   ]
  },
  {
   "cell_type": "markdown",
   "metadata": {},
   "source": [
    "> ### Data loaders"
   ]
  },
  {
   "cell_type": "code",
   "execution_count": 4,
   "metadata": {},
   "outputs": [],
   "source": [
    "import torch\n",
    "\n",
    "shuffle = True\n",
    "num_workers = 16\n",
    "batch_size = 64\n",
    "\n",
    "# Create the data loaders\n",
    "data = {\"train\" : train_data, \"val\":valid_data, \"test\" : test_data}\n",
    "\n",
    "train_loader = torch.utils.data.DataLoader(data[\"train\"], batch_size=batch_size, num_workers=num_workers, shuffle=shuffle, pin_memory=True)\n",
    "\n",
    "#### --- NOTE on num_workers if using 5crop and batch_size for testing --- ###\n",
    "# If using the 5crop test time augmentation, num_workers = 0 (an error is raised otherwise) \n",
    "# batch_size needs to be reduced during testing due to memory requirements\n",
    "valid_loader = torch.utils.data.DataLoader(data[\"val\"], batch_size=int(np.floor(batch_size/5)), num_workers=0, shuffle=shuffle, pin_memory=True)\n",
    "\n",
    "test_loader = torch.utils.data.DataLoader(data[\"test\"], batch_size=int(np.floor(batch_size/5)), num_workers=0, shuffle=shuffle, pin_memory=True)\n",
    "loaders_transfer = {\"train\" : train_loader, \"val\":valid_loader, \"test\" : test_loader}"
   ]
  },
  {
   "cell_type": "markdown",
   "metadata": {},
   "source": [
    "> ### CPU vs GPU "
   ]
  },
  {
   "cell_type": "code",
   "execution_count": 5,
   "metadata": {},
   "outputs": [
    {
     "name": "stdout",
     "output_type": "stream",
     "text": [
      "CUDA is available!  Training on GPU ...\n",
      "Using GeForce GTX 960M\n"
     ]
    }
   ],
   "source": [
    "#setting CPU vs GPU\n",
    "\n",
    "use_cuda = torch.cuda.is_available()\n",
    "if not use_cuda:\n",
    "    print('CUDA is not available.  Training on CPU ...')\n",
    "    device = \"cpu:1\"\n",
    "else:\n",
    "    print('CUDA is available!  Training on GPU ...')\n",
    "    device = torch.device(\"cuda\")\n",
    "    print(\"Using\",torch.cuda.get_device_name(device))"
   ]
  },
  {
   "cell_type": "markdown",
   "metadata": {},
   "source": [
    "> ### Loading trained ResNet for prosecuting learning"
   ]
  },
  {
   "cell_type": "code",
   "execution_count": 6,
   "metadata": {},
   "outputs": [],
   "source": [
    "import torchvision.models as models\n",
    "import torch.nn as nn\n",
    "\n",
    "model_transfer = models.resnet50(pretrained=True)\n",
    "\n",
    "#freezing the parameters\n",
    "for param in model_transfer.parameters():\n",
    "    param.requires_grad = False\n",
    "    \n",
    "n_classes = len(train_data.classes)\n",
    "\n",
    "# Replacing the last layer with a fully connected layer to retrain\n",
    "model_transfer.fc = nn.Linear(model_transfer.fc.in_features,n_classes)\n",
    "\n",
    "# Initialize the weights of the new layer\n",
    "nn.init.kaiming_normal_(model_transfer.fc.weight, nonlinearity='relu')\n",
    "\n",
    "# Transfer to GPU \n",
    "model_transfer = model_transfer.to(device)"
   ]
  },
  {
   "cell_type": "code",
   "execution_count": 7,
   "metadata": {},
   "outputs": [],
   "source": [
    "#specify loss function and optimizer\n",
    "import torch.optim as optim\n",
    "from torch.optim.lr_scheduler import ReduceLROnPlateau\n",
    "\n",
    "criterion_transfer = nn.CrossEntropyLoss()\n",
    "optimizer_transfer = optim.Adam(model_transfer.parameters(),3e-4) \n",
    "scheduler_transfer = ReduceLROnPlateau(optimizer_transfer, 'min', verbose = True, factor = 0.5, patience = 7)"
   ]
  },
  {
   "cell_type": "code",
   "execution_count": 9,
   "metadata": {},
   "outputs": [
    {
     "name": "stdout",
     "output_type": "stream",
     "text": [
      "=> loading checkpoint 'models/model_resumed_101cat.pt.tar'\n",
      "=> loaded checkpoint 'models/model_resumed_101cat.pt.tar' (epoch 82)\n"
     ]
    }
   ],
   "source": [
    "from pytorch_utils import load_checkpoint\n",
    "\n",
    "model_retr, optimizer, scheduler, start_epoch, losslogger, train_loss_tracker, valid_loss_tracker = load_checkpoint(model_transfer, optimizer_transfer, scheduler_transfer, criterion_transfer)\n",
    "model_retr = model_retr.to(device)\n",
    "\n",
    "# now individually transfer the optimizer parts...\n",
    "for state in optimizer.state.values():\n",
    "    for k, v in state.items():\n",
    "        if isinstance(v, torch.Tensor):\n",
    "            state[k] = v.to(device)"
   ]
  },
  {
   "cell_type": "markdown",
   "metadata": {},
   "source": [
    "> ## Training"
   ]
  },
  {
   "cell_type": "code",
   "execution_count": 11,
   "metadata": {},
   "outputs": [
    {
     "name": "stdout",
     "output_type": "stream",
     "text": [
      "Epoch 83 done in 3232.67 seconds at 23:32:56. \tTraining Loss: 1.806 \tValidation Loss: 1.303\n",
      "Epoch 84 done in 3286.95 seconds at 0:27:43. \tTraining Loss: 1.812 \tValidation Loss: 1.304\n",
      "Epoch 85 done in 3321.82 seconds at 1:23:5. \tTraining Loss: 1.807 \tValidation Loss: 1.304\n",
      "Epoch 86 done in 3337.44 seconds at 2:18:42. \tTraining Loss: 1.791 \tValidation Loss: 1.303\n",
      "Epoch 87 done in 3360.27 seconds at 3:14:43. \tTraining Loss: 1.803 \tValidation Loss: 1.309\n",
      "Epoch 88 done in 3285.09 seconds at 4:9:28. \tTraining Loss: 1.798 \tValidation Loss: 1.297\n",
      "Epoch 89 done in 3255.10 seconds at 5:3:43. \tTraining Loss: 1.802 \tValidation Loss: 1.293\n",
      "Epoch    90: reducing learning rate of group 0 to 7.5000e-05.\n",
      "Epoch 90 done in 3205.93 seconds at 5:57:9. \tTraining Loss: 1.804 \tValidation Loss: 1.291\n",
      "Epoch 91 done in 3121.26 seconds at 6:49:10. \tTraining Loss: 1.779 \tValidation Loss: 1.280\n",
      "Epoch 92 done in 3237.66 seconds at 7:43:8. \tTraining Loss: 1.777 \tValidation Loss: 1.288\n",
      "Epoch 93 done in 2990.92 seconds at 8:32:59. \tTraining Loss: 1.775 \tValidation Loss: 1.272\n",
      "Epoch 94 done in 3130.10 seconds at 9:25:9. \tTraining Loss: 1.776 \tValidation Loss: 1.268\n",
      "Epoch 95 done in 3011.81 seconds at 10:15:22. \tTraining Loss: 1.775 \tValidation Loss: 1.268\n",
      "13 epochs trained in 41778.197 seconds. \n",
      "Best model obtained at epoch 95 with minimum validation loss : 1.268\n"
     ]
    }
   ],
   "source": [
    "from pytorch_utils import train\n",
    "\n",
    "# train the model\n",
    "n_epochs = 13\n",
    "\n",
    "nc = 101\n",
    "\n",
    "model_resumed = train(n_epochs, \n",
    "                       loaders_transfer, \n",
    "                       model_retr, \n",
    "                       optimizer_transfer, \n",
    "                       criterion_transfer, \n",
    "                       device, \n",
    "                       'models/model_res_{}cat.pt'.format(nc), \n",
    "                       fivecrop = \"mean\", \n",
    "                       lr_scheduler = scheduler_transfer,\n",
    "                       valid_loss_min = losslogger,\n",
    "                       start_epoch = start_epoch + 1,\n",
    "                     train_loss=train_loss_tracker,\n",
    "                     valid_loss=valid_loss_tracker)"
   ]
  },
  {
   "cell_type": "markdown",
   "metadata": {},
   "source": [
    "# "
   ]
  },
  {
   "cell_type": "raw",
   "metadata": {},
   "source": [
    "## "
   ]
  }
 ],
 "metadata": {
  "kernelspec": {
   "display_name": "Python 3",
   "language": "python",
   "name": "python3"
  },
  "language_info": {
   "codemirror_mode": {
    "name": "ipython",
    "version": 3
   },
   "file_extension": ".py",
   "mimetype": "text/x-python",
   "name": "python",
   "nbconvert_exporter": "python",
   "pygments_lexer": "ipython3",
   "version": "3.6.7"
  }
 },
 "nbformat": 4,
 "nbformat_minor": 4
}
