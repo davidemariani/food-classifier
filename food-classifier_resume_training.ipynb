{
 "cells": [
  {
   "cell_type": "markdown",
   "metadata": {},
   "source": [
    "# Resuming the training on an already trained model"
   ]
  },
  {
   "cell_type": "markdown",
   "metadata": {},
   "source": [
    "Notebook for performs training across multiple sessions, resuming the previous saved state at each session."
   ]
  },
  {
   "cell_type": "code",
   "execution_count": 1,
   "metadata": {},
   "outputs": [],
   "source": [
    "#importing essential modules\n",
    "import pandas as pd\n",
    "import numpy as np\n",
    "from random import seed, choice\n",
    "import os\n",
    "import matplotlib.pyplot as plt\n",
    "from os import path"
   ]
  },
  {
   "cell_type": "code",
   "execution_count": 2,
   "metadata": {},
   "outputs": [],
   "source": [
    "#Setting train, validation and test set target folder\n",
    "#target folder - train\n",
    "trainfolder = \"../data/food-101/train_img/\"\n",
    "\n",
    "#target folder - validation\n",
    "validfolder = \"../data/food-101/valid_img/\"\n",
    "\n",
    "#target folder -test\n",
    "testfolder = \"../data/food-101/test_img/\""
   ]
  },
  {
   "cell_type": "markdown",
   "metadata": {},
   "source": [
    "> ### Transformers set-up for train, validation and test data"
   ]
  },
  {
   "cell_type": "code",
   "execution_count": 3,
   "metadata": {},
   "outputs": [],
   "source": [
    "#Norm values\n",
    "norm_mean = [0.485, 0.456, 0.406]\n",
    "norm_std = [0.229, 0.224, 0.225]\n",
    "\n",
    "#Img size parameters\n",
    "img_short_side_resize = 256\n",
    "img_input_size = 224\n",
    "\n",
    "import os\n",
    "from torchvision import datasets\n",
    "import torchvision.transforms as transforms\n",
    "\n",
    "\n",
    "transform_train = transforms.Compose([\n",
    "                    transforms.Resize(img_short_side_resize),\n",
    "                    transforms.ColorJitter(brightness=0.2, contrast=0.2, saturation=0.2, hue=0.1),\n",
    "                    transforms.RandomHorizontalFlip(),\n",
    "                    transforms.RandomResizedCrop(img_input_size, scale=(0.08,1), ratio=(1,1)), \n",
    "                    transforms.ToTensor(),\n",
    "                    transforms.Normalize(mean = norm_mean, std = norm_std)])\n",
    "transform_test = transforms.Compose([\n",
    "                    transforms.Resize(img_input_size),  \n",
    "                    transforms.FiveCrop(img_input_size),\n",
    "                    transforms.Lambda(lambda crops: torch.stack([transforms.Compose([\n",
    "                    transforms.ToTensor(),\n",
    "                    transforms.Normalize(mean = norm_mean, std = norm_std)])(crop) for crop in crops]))])\n",
    "\n",
    "train_data = datasets.ImageFolder(trainfolder, transform_train)\n",
    "valid_data = datasets.ImageFolder(validfolder, transform_test)\n",
    "test_data = datasets.ImageFolder(testfolder, transform_test)"
   ]
  },
  {
   "cell_type": "markdown",
   "metadata": {},
   "source": [
    "> ### Data loaders"
   ]
  },
  {
   "cell_type": "code",
   "execution_count": 4,
   "metadata": {},
   "outputs": [],
   "source": [
    "import torch\n",
    "\n",
    "shuffle = True\n",
    "num_workers = 16\n",
    "batch_size = 64\n",
    "\n",
    "# Create the data loaders\n",
    "data = {\"train\" : train_data, \"val\":valid_data, \"test\" : test_data}\n",
    "\n",
    "train_loader = torch.utils.data.DataLoader(data[\"train\"], batch_size=batch_size, num_workers=num_workers, shuffle=shuffle, pin_memory=True)\n",
    "\n",
    "#### --- NOTE on num_workers if using 5crop and batch_size for testing --- ###\n",
    "# If using the 5crop test time augmentation, num_workers = 0 (an error is raised otherwise) \n",
    "# batch_size needs to be reduced during testing due to memory requirements\n",
    "valid_loader = torch.utils.data.DataLoader(data[\"val\"], batch_size=int(np.floor(batch_size/5)), num_workers=0, shuffle=shuffle, pin_memory=True)\n",
    "\n",
    "test_loader = torch.utils.data.DataLoader(data[\"test\"], batch_size=int(np.floor(batch_size/5)), num_workers=0, shuffle=shuffle, pin_memory=True)\n",
    "loaders_transfer = {\"train\" : train_loader, \"val\":valid_loader, \"test\" : test_loader}"
   ]
  },
  {
   "cell_type": "markdown",
   "metadata": {},
   "source": [
    "> ### CPU vs GPU "
   ]
  },
  {
   "cell_type": "code",
   "execution_count": 5,
   "metadata": {},
   "outputs": [
    {
     "name": "stdout",
     "output_type": "stream",
     "text": [
      "CUDA is available!  Training on GPU ...\n",
      "Using GeForce GTX 960M\n"
     ]
    }
   ],
   "source": [
    "#setting CPU vs GPU\n",
    "\n",
    "use_cuda = torch.cuda.is_available()\n",
    "if not use_cuda:\n",
    "    print('CUDA is not available.  Training on CPU ...')\n",
    "    device = \"cpu:1\"\n",
    "else:\n",
    "    print('CUDA is available!  Training on GPU ...')\n",
    "    device = torch.device(\"cuda\")\n",
    "    print(\"Using\",torch.cuda.get_device_name(device))"
   ]
  },
  {
   "cell_type": "markdown",
   "metadata": {},
   "source": [
    "> ### Loading trained ResNet for prosecuting learning"
   ]
  },
  {
   "cell_type": "code",
   "execution_count": 6,
   "metadata": {},
   "outputs": [],
   "source": [
    "import torchvision.models as models\n",
    "import torch.nn as nn\n",
    "\n",
    "model_transfer = models.resnet50(pretrained=True)\n",
    "\n",
    "#freezing the parameters\n",
    "for param in model_transfer.parameters():\n",
    "    param.requires_grad = False\n",
    "    \n",
    "n_classes = len(train_data.classes)\n",
    "\n",
    "# Replacing the last layer with a fully connected layer to retrain\n",
    "model_transfer.fc = nn.Linear(model_transfer.fc.in_features,n_classes)\n",
    "\n",
    "# Initialize the weights of the new layer\n",
    "nn.init.kaiming_normal_(model_transfer.fc.weight, nonlinearity='relu')\n",
    "\n",
    "# Transfer to GPU \n",
    "model_transfer = model_transfer.to(device)"
   ]
  },
  {
   "cell_type": "code",
   "execution_count": 7,
   "metadata": {},
   "outputs": [],
   "source": [
    "#specify loss function and optimizer\n",
    "import torch.optim as optim\n",
    "from torch.optim.lr_scheduler import ReduceLROnPlateau\n",
    "\n",
    "criterion_transfer = nn.CrossEntropyLoss()\n",
    "optimizer_transfer = optim.Adam(model_transfer.parameters(),3e-4) \n",
    "scheduler_transfer = ReduceLROnPlateau(optimizer_transfer, 'min', verbose = True, factor = 0.5, patience = 7)"
   ]
  },
  {
   "cell_type": "code",
   "execution_count": 8,
   "metadata": {},
   "outputs": [
    {
     "name": "stdout",
     "output_type": "stream",
     "text": [
      "=> loading checkpoint 'models/model_res_101cat.pt.tar'\n",
      "=> loaded checkpoint 'models/model_res_101cat.pt.tar' (epoch 131)\n",
      "Starting from the best model trained so far (based on validation results)\n"
     ]
    }
   ],
   "source": [
    "from pytorch_utils import load_checkpoint\n",
    "\n",
    "model_retr, optimizer, scheduler, start_epoch, losslogger, train_loss_tracker, valid_loss_tracker = load_checkpoint(model_transfer, optimizer_transfer, scheduler_transfer, criterion_transfer)\n",
    "model_retr = model_retr.to(device)\n",
    "\n",
    "# now individually transfer the optimizer parts...\n",
    "for state in optimizer.state.values():\n",
    "    for k, v in state.items():\n",
    "        if isinstance(v, torch.Tensor):\n",
    "            state[k] = v.to(device)"
   ]
  },
  {
   "cell_type": "markdown",
   "metadata": {},
   "source": [
    "> ## Training"
   ]
  },
  {
   "cell_type": "code",
   "execution_count": 9,
   "metadata": {},
   "outputs": [
    {
     "name": "stdout",
     "output_type": "stream",
     "text": [
      "Epoch 132 done in 42.0 minutes and 51 seconds at 0:38:19. \tTraining Loss: 1.721 \tValidation Loss: 1.220\n",
      "Epoch 133 done in 46.0 minutes and 45 seconds at 1:25:4. \tTraining Loss: 1.725 \tValidation Loss: 1.217\n",
      "Last epoch was not saved in {} since both validation and training loss didn't improve.\n",
      "Epoch 134 done in 45.0 minutes and 50 seconds at 2:10:54. \tTraining Loss: 1.733 \tValidation Loss: 1.193\n",
      "Last epoch was not saved in {} since both validation and training loss didn't improve.\n",
      "Epoch 135 done in 45.0 minutes and 36 seconds at 2:56:30. \tTraining Loss: 1.719 \tValidation Loss: 1.204\n",
      "Epoch 136 done in 44.0 minutes and 34 seconds at 3:41:4. \tTraining Loss: 1.730 \tValidation Loss: 1.194\n",
      "Last epoch was not saved in {} since both validation and training loss didn't improve.\n",
      "Epoch 137 done in 45.0 minutes and 25 seconds at 4:26:29. \tTraining Loss: 1.722 \tValidation Loss: 1.202\n",
      "Last epoch was not saved in {} since both validation and training loss didn't improve.\n",
      "Epoch 138 done in 43.0 minutes and 25 seconds at 5:9:54. \tTraining Loss: 1.716 \tValidation Loss: 1.204\n",
      "Epoch   139: reducing learning rate of group 0 to 1.5000e-04.\n",
      "Epoch 139 done in 43.0 minutes and 29 seconds at 5:53:24. \tTraining Loss: 1.717 \tValidation Loss: 1.207\n",
      "Last epoch was not saved in {} since both validation and training loss didn't improve.\n",
      "8 epochs trained in 5.0 hours, 57.0 minutes and 55 seconds. \n",
      "Best model obtained at epoch 132 with minimum validation loss : 1.191\n"
     ]
    }
   ],
   "source": [
    "from pytorch_utils import train\n",
    "\n",
    "# train the model\n",
    "n_epochs = 8\n",
    "\n",
    "nc = 101\n",
    "\n",
    "model_resumed = train(n_epochs, \n",
    "                       loaders_transfer, \n",
    "                       model_retr, \n",
    "                       optimizer_transfer, \n",
    "                       criterion_transfer, \n",
    "                       device, \n",
    "                       'models/model_res_{}cat.pt'.format(nc), \n",
    "                       fivecrop = \"mean\", \n",
    "                       lr_scheduler = scheduler_transfer,\n",
    "                       valid_loss_min = losslogger,\n",
    "                       start_epoch = start_epoch + 1,\n",
    "                     train_loss=train_loss_tracker,\n",
    "                     valid_loss=valid_loss_tracker)"
   ]
  },
  {
   "cell_type": "markdown",
   "metadata": {},
   "source": [
    "# "
   ]
  },
  {
   "cell_type": "raw",
   "metadata": {},
   "source": [
    "## "
   ]
  }
 ],
 "metadata": {
  "kernelspec": {
   "display_name": "Python 3",
   "language": "python",
   "name": "python3"
  },
  "language_info": {
   "codemirror_mode": {
    "name": "ipython",
    "version": 3
   },
   "file_extension": ".py",
   "mimetype": "text/x-python",
   "name": "python",
   "nbconvert_exporter": "python",
   "pygments_lexer": "ipython3",
   "version": "3.6.7"
  }
 },
 "nbformat": 4,
 "nbformat_minor": 4
}
